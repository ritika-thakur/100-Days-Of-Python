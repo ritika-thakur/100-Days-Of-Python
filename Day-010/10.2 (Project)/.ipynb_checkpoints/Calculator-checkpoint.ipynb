{
 "cells": [
  {
   "cell_type": "code",
   "execution_count": 1,
   "metadata": {},
   "outputs": [],
   "source": [
    "def add(n1,n2):\n",
    "    return n1+n2\n",
    "\n",
    "def subtract(n1,n2):\n",
    "    return n1-n2\n",
    "\n",
    "def multiply(n1,n2):\n",
    "    return n1*n2\n",
    "\n",
    "def divide(n1,n2):\n",
    "    return n1/n2\n",
    "\n",
    "def modulus(n1,n2):\n",
    "    return n1%n2\n",
    "\n",
    "operations = dict()\n",
    "operations = {\n",
    "'+': add,\n",
    "'-': subtract,\n",
    "'*': multiply,\n",
    "'/': divide,\n",
    "'%': modulus\n",
    "}\n",
    "\n",
    "def calculation(number1, number2, selected_operation):\n",
    "    result1 = operations[chosen_operation](num1, num2)\n",
    "    return result1"
   ]
  },
  {
   "cell_type": "code",
   "execution_count": 2,
   "metadata": {},
   "outputs": [
    {
     "name": "stdout",
     "output_type": "stream",
     "text": [
      "\n",
      " _____________________\n",
      "|  _________________  |\n",
      "| | Pythonista   0. | |  .----------------.  .----------------.  .----------------.  .----------------. \n",
      "| |_________________| | | .--------------. || .--------------. || .--------------. || .--------------. |\n",
      "|  ___ ___ ___   ___  | | |     ______   | || |      __      | || |   _____      | || |     ______   | |\n",
      "| | 7 | 8 | 9 | | + | | | |   .' ___  |  | || |     /  \\     | || |  |_   _|     | || |   .' ___  |  | |\n",
      "| |___|___|___| |___| | | |  / .'   \\_|  | || |    / /\\ \\    | || |    | |       | || |  / .'   \\_|  | |\n",
      "| | 4 | 5 | 6 | | - | | | |  | |         | || |   / ____ \\   | || |    | |   _   | || |  | |         | |\n",
      "| |___|___|___| |___| | | |  \\ `.___.'\\  | || | _/ /    \\ \\_ | || |   _| |__/ |  | || |  \\ `.___.'\\  | |\n",
      "| | 1 | 2 | 3 | | x | | | |   `._____.'  | || ||____|  |____|| || |  |________|  | || |   `._____.'  | |\n",
      "| |___|___|___| |___| | | |              | || |              | || |              | || |              | |\n",
      "| | . | 0 | = | | / | | | '--------------' || '--------------' || '--------------' || '--------------' |\n",
      "| |___|___|___| |___| |  '----------------'  '----------------'  '----------------'  '----------------' \n",
      "|_____________________|\n",
      "\n",
      "Enter first number: 9\n",
      "+\n",
      "-\n",
      "*\n",
      "/\n",
      "%\n",
      "Enter operation: /\n",
      "Enter second number: 3\n",
      "3.0\n",
      "To continue with 3.0 type 'y'. To start a new calculation type 'n' : y\n",
      "Enter operation: +\n",
      "Enter second number: 6\n",
      "9.0\n",
      "To continue with 9.0 type 'y'. To start a new calculation type 'n' : y\n",
      "Enter operation: /\n",
      "Enter second number: 3\n",
      "3.0\n",
      "To continue with 3.0 type 'y'. To start a new calculation type 'n' : y\n",
      "Enter operation: +\n",
      "Enter second number: 25\n",
      "28.0\n",
      "To continue with 28.0 type 'y'. To start a new calculation type 'n' : n\n",
      "Goodbye\n"
     ]
    }
   ],
   "source": [
    "from art import logo\n",
    "print(logo)\n",
    "\n",
    "num1 = float(input(\"Enter first number: \"))\n",
    "for i in operations.keys():\n",
    "    print(i)\n",
    "\n",
    "calculate_further = True\n",
    "while calculate_further:\n",
    "    chosen_operation = input(\"Enter operation: \")\n",
    "    num2 = float(input(\"Enter second number: \"))\n",
    "    solution = calculation(num1, num2, chosen_operation)\n",
    "    print(solution)\n",
    "    calculate_again = input(f\"To continue with {solution} type 'y'. To start a new calculation type 'n' : \")\n",
    "    if calculate_again == 'y':\n",
    "        num1 = solution\n",
    "    elif calculate_again == 'n':\n",
    "        calculate_further = False\n",
    "        print(\"Goodbye\")\n",
    "    else:\n",
    "        print(\"Invalid request.\")"
   ]
  }
 ],
 "metadata": {
  "kernelspec": {
   "display_name": "Python 3",
   "language": "python",
   "name": "python3"
  },
  "language_info": {
   "codemirror_mode": {
    "name": "ipython",
    "version": 3
   },
   "file_extension": ".py",
   "mimetype": "text/x-python",
   "name": "python",
   "nbconvert_exporter": "python",
   "pygments_lexer": "ipython3",
   "version": "3.7.0"
  }
 },
 "nbformat": 4,
 "nbformat_minor": 2
}
