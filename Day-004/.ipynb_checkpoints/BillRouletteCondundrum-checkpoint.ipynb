{
 "cells": [
  {
   "cell_type": "code",
   "execution_count": 9,
   "metadata": {},
   "outputs": [
    {
     "name": "stdout",
     "output_type": "stream",
     "text": [
      "enter the name of everyone, seperated by a comma\n",
      "govind,gauri,vishwas,ritika\n",
      "gauri is gonna pay the bill today\n"
     ]
    }
   ],
   "source": [
    "from random import randint as r\n",
    "names =input(\"enter the name of everyone, seperated by a comma\\n\").split(\",\")\n",
    "print(f\"{ names [ r ( 0 , len(names) - 1 ) ] } is gonna pay the bill today\")"
   ]
  },
  {
   "cell_type": "code",
   "execution_count": null,
   "metadata": {},
   "outputs": [],
   "source": []
  }
 ],
 "metadata": {
  "kernelspec": {
   "display_name": "Python 3",
   "language": "python",
   "name": "python3"
  },
  "language_info": {
   "codemirror_mode": {
    "name": "ipython",
    "version": 3
   },
   "file_extension": ".py",
   "mimetype": "text/x-python",
   "name": "python",
   "nbconvert_exporter": "python",
   "pygments_lexer": "ipython3",
   "version": "3.8.3"
  }
 },
 "nbformat": 4,
 "nbformat_minor": 4
}
