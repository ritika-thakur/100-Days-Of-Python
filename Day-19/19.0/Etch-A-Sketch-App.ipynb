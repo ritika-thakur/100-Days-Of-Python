{
 "cells": [
  {
   "cell_type": "code",
   "execution_count": 1,
   "metadata": {},
   "outputs": [],
   "source": [
    "from turtle import Turtle, Screen"
   ]
  },
  {
   "cell_type": "code",
   "execution_count": 2,
   "metadata": {},
   "outputs": [],
   "source": [
    "tim = Turtle()\n",
    "screen = Screen()\n",
    "tim.color(\"midnightblue\")\n",
    "tim.pendown()\n",
    "def move_forward():\n",
    "    tim.forward(10)\n",
    "\n",
    "def move_backward():\n",
    "    tim.backward(10)\n",
    "    \n",
    "def turn_right():\n",
    "    new_heading = tim.heading() - 10\n",
    "    tim.setheading(new_heading)\n",
    "    \n",
    "def turn_left():\n",
    "    new_heading = tim.heading()  + 10\n",
    "    tim.setheading(new_heading)\n",
    "    \n",
    "def clear_sketch():\n",
    "    tim.clear()\n",
    "    tim.penup()\n",
    "    tim.home()\n",
    "\n",
    "screen.listen()\n",
    "screen.onkey(move_forward, \"w\" )\n",
    "screen.onkey(move_backward, \"s\")\n",
    "screen.onkey(turn_right, \"d\")\n",
    "screen.onkey(turn_left, \"a\")\n",
    "screen.onkey(clear_sketch, \"c\")\n",
    "screen.exitonclick()"
   ]
  },
  {
   "cell_type": "code",
   "execution_count": null,
   "metadata": {},
   "outputs": [],
   "source": []
  }
 ],
 "metadata": {
  "kernelspec": {
   "display_name": "Python 3",
   "language": "python",
   "name": "python3"
  },
  "language_info": {
   "codemirror_mode": {
    "name": "ipython",
    "version": 3
   },
   "file_extension": ".py",
   "mimetype": "text/x-python",
   "name": "python",
   "nbconvert_exporter": "python",
   "pygments_lexer": "ipython3",
   "version": "3.7.0"
  }
 },
 "nbformat": 4,
 "nbformat_minor": 2
}
