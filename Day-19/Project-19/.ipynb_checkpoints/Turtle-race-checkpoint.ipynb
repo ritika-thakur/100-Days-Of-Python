{
 "cells": [
  {
   "cell_type": "code",
   "execution_count": null,
   "metadata": {},
   "outputs": [
    {
     "name": "stdout",
     "output_type": "stream",
     "text": [
      "You've lost! The blue turtle is the winner!\n"
     ]
    }
   ],
   "source": [
    "from turtle import Turtle, Screen\n",
    "import random\n",
    "\n",
    "\n",
    "is_race_on = False\n",
    "screen = Screen()\n",
    "screen.setup(width = 500, height= 400)\n",
    "user_bet = screen.textinput(title = \"Make your bet\", prompt = \"Which turtle will win the race? Enter a color: \")\n",
    "colors = [\"red\", \"orange\", \"yellow\", \"green\", \"blue\", \"purple\"]\n",
    "y_position = [-70, -40, -10, 20, 50, 80]\n",
    "all_turtles = []\n",
    "\n",
    "for turtle_index in range(0, 6):\n",
    "    new_turtle = Turtle(shape=\"turtle\")\n",
    "    new_turtle.penup()\n",
    "    new_turtle.color(colors[turtle_index])\n",
    "    new_turtle.goto(x=-230, y = y_position[turtle_index])\n",
    "    all_turtles.append(new_turtle)\n",
    "    \n",
    "if user_bet: \n",
    "    is_race_on = True\n",
    "    \n",
    "    \n",
    "\n",
    "while is_race_on:\n",
    "    \n",
    "    for t in all_turtles:\n",
    "        if t.xcor() > 230:\n",
    "            is_race_on = False\n",
    "            winning_color = t.pencolor()\n",
    "            if winning_color == user_bet:\n",
    "                print(f\"You've won! The {winning_color} turtle is the winner!\")\n",
    "            else:\n",
    "                print(f\"You've lost! The {winning_color} turtle is the winner!\")\n",
    "        \n",
    "        random_distance = random.randint(0,10)\n",
    "        t.forward(random_distance)\n",
    "\n",
    "screen.exitonclick()"
   ]
  },
  {
   "cell_type": "code",
   "execution_count": null,
   "metadata": {},
   "outputs": [],
   "source": []
  }
 ],
 "metadata": {
  "kernelspec": {
   "display_name": "Python 3",
   "language": "python",
   "name": "python3"
  },
  "language_info": {
   "codemirror_mode": {
    "name": "ipython",
    "version": 3
   },
   "file_extension": ".py",
   "mimetype": "text/x-python",
   "name": "python",
   "nbconvert_exporter": "python",
   "pygments_lexer": "ipython3",
   "version": "3.7.0"
  }
 },
 "nbformat": 4,
 "nbformat_minor": 2
}
