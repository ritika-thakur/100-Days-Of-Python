{
 "cells": [
  {
   "cell_type": "code",
   "execution_count": 1,
   "metadata": {},
   "outputs": [
    {
     "name": "stdout",
     "output_type": "stream",
     "text": [
      "Enter your height in metres(m) :1.67\n",
      "Enter your weight in Kilograms(kgs) :56\n",
      "bmi : 20\n"
     ]
    }
   ],
   "source": [
    "height = float(input(\"Enter your height in metres(m) :\"))\n",
    "weight = float(input(\"Enter your weight in Kilograms(kgs) :\"))\n",
    "\n",
    "bmi = weight / (height)**2\n",
    "\n",
    "print(\"bmi : {}\".format(round(bmi)))"
   ]
  }
 ],
 "metadata": {
  "kernelspec": {
   "display_name": "Python 3",
   "language": "python",
   "name": "python3"
  },
  "language_info": {
   "codemirror_mode": {
    "name": "ipython",
    "version": 3
   },
   "file_extension": ".py",
   "mimetype": "text/x-python",
   "name": "python",
   "nbconvert_exporter": "python",
   "pygments_lexer": "ipython3",
   "version": "3.7.0"
  }
 },
 "nbformat": 4,
 "nbformat_minor": 2
}
