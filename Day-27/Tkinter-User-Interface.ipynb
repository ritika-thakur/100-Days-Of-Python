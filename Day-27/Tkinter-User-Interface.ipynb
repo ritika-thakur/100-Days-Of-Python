{
 "cells": [
  {
   "cell_type": "code",
   "execution_count": 6,
   "metadata": {},
   "outputs": [
    {
     "name": "stdout",
     "output_type": "stream",
     "text": [
      "\n",
      "I got clicked\n",
      "I got clicked\n"
     ]
    }
   ],
   "source": [
    "from tkinter import *\n",
    "\n",
    "\n",
    "def button_clicked():\n",
    "    print(\"I got clicked\")\n",
    "    new_text = input.get()\n",
    "    my_label.config(text=new_text)\n",
    "\n",
    "\n",
    "window = Tk()\n",
    "window.title(\"My First GUI Program\")\n",
    "window.minsize(width=500, height=300)\n",
    "window.config(padx=100, pady=200)\n",
    "\n",
    "\n",
    "my_label = Label(text=\"I Am a Label\", font=(\"Arial\", 24, \"bold\"))\n",
    "my_label.config(text=\"New Text\")\n",
    "my_label.grid(column=0, row=0)\n",
    "my_label.config(padx=50, pady=50)\n",
    "\n",
    "\n",
    "button = Button(text=\"Click Me\", command=button_clicked)\n",
    "button.grid(column=1, row=1)\n",
    "\n",
    "new_button = Button(text=\"New Button\")\n",
    "new_button.grid(column=2, row=0)\n",
    "\n",
    "\n",
    "input = Entry(width=10)\n",
    "print(input.get())\n",
    "input.grid(column=3, row=2)\n",
    "\n",
    "\n",
    "\n",
    "\n",
    "\n",
    "\n",
    "\n",
    "\n",
    "\n",
    "window.mainloop()"
   ]
  },
  {
   "cell_type": "code",
   "execution_count": null,
   "metadata": {},
   "outputs": [],
   "source": []
  }
 ],
 "metadata": {
  "kernelspec": {
   "display_name": "Python 3",
   "language": "python",
   "name": "python3"
  },
  "language_info": {
   "codemirror_mode": {
    "name": "ipython",
    "version": 3
   },
   "file_extension": ".py",
   "mimetype": "text/x-python",
   "name": "python",
   "nbconvert_exporter": "python",
   "pygments_lexer": "ipython3",
   "version": "3.7.0"
  }
 },
 "nbformat": 4,
 "nbformat_minor": 2
}
