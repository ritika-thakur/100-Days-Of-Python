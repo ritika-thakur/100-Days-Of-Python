{
 "cells": [
  {
   "cell_type": "code",
   "execution_count": 1,
   "metadata": {},
   "outputs": [
    {
     "name": "stdout",
     "output_type": "stream",
     "text": [
      "Input a list of student scores 78, 65, 89, 86, 55, 91, 64, 89\n",
      "[78, 65, 89, 86, 55, 91, 64, 89]\n",
      "highest score = 91\n"
     ]
    }
   ],
   "source": [
    "student_scores = input(\"Input a list of student scores \").split(\", \")\n",
    "highest=0\n",
    "for n in range(0, len(student_scores)):\n",
    "    student_scores[n] = int(student_scores[n])\n",
    "    if student_scores[n] > highest:\n",
    "        highest = student_scores[n]\n",
    "print(student_scores)\n",
    "print(f\"highest score = {highest}\")"
   ]
  }
 ],
 "metadata": {
  "kernelspec": {
   "display_name": "Python 3",
   "language": "python",
   "name": "python3"
  },
  "language_info": {
   "codemirror_mode": {
    "name": "ipython",
    "version": 3
   },
   "file_extension": ".py",
   "mimetype": "text/x-python",
   "name": "python",
   "nbconvert_exporter": "python",
   "pygments_lexer": "ipython3",
   "version": "3.7.0"
  }
 },
 "nbformat": 4,
 "nbformat_minor": 4
}
