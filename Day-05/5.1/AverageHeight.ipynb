{
 "cells": [
  {
   "cell_type": "code",
   "execution_count": 1,
   "metadata": {},
   "outputs": [
    {
     "name": "stdout",
     "output_type": "stream",
     "text": [
      "Input a list of student heights 156 178 165 171 187\n",
      "5\n",
      "171\n"
     ]
    }
   ],
   "source": [
    "student_heights = input(\"Input a list of student heights \").split()\n",
    "\n",
    "for n in range(0, len(student_heights)):\n",
    "    \n",
    "    student_heights[n] = int(student_heights[n])\n",
    "\n",
    "number_of_students = 0\n",
    "\n",
    "sum = 0\n",
    "\n",
    "for i in student_heights:\n",
    "    \n",
    "    number_of_students += 1\n",
    "\n",
    "print(number_of_students)\n",
    "\n",
    "for height in student_heights:\n",
    "    \n",
    "    sum += height\n",
    "\n",
    "average_height = round(sum/number_of_students) \n",
    "\n",
    "print(average_height)"
   ]
  }
 ],
 "metadata": {
  "kernelspec": {
   "display_name": "Python 3",
   "language": "python",
   "name": "python3"
  },
  "language_info": {
   "codemirror_mode": {
    "name": "ipython",
    "version": 3
   },
   "file_extension": ".py",
   "mimetype": "text/x-python",
   "name": "python",
   "nbconvert_exporter": "python",
   "pygments_lexer": "ipython3",
   "version": "3.7.0"
  }
 },
 "nbformat": 4,
 "nbformat_minor": 4
}
