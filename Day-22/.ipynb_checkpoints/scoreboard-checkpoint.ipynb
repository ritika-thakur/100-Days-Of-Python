{
 "cells": [
  {
   "cell_type": "code",
   "execution_count": null,
   "metadata": {},
   "outputs": [],
   "source": [
    "from turtle import Turtle\n",
    "\n",
    "class Scoreboard(Turtle):\n",
    "    \n",
    "    def __init__(self):\n",
    "        super().__init__()\n",
    "        self.color(\"white\")\n",
    "        self.penup()\n",
    "        self.hideturtle()\n",
    "        self.l_score()\n",
    "        self.r_score()\n",
    "        self.update_score()\n",
    "        \n",
    "    def update_score(self):\n",
    "        self.clear()\n",
    "        self.goto(-100, 200)\n",
    "        self.write(self.l_score, align =\"center\", font = (\"Courier\", 80, \"normal\"))\n",
    "        self.goto(100, 200)\n",
    "        self.write(self.r_score, align =\"center\", font = (\"Courier\", 80, \"normal\"))\n",
    "        \n",
    "    def l_point(self):\n",
    "        self.l_score += 1\n",
    "        self.update_score()\n",
    "        \n",
    "    def r_point(self):\n",
    "        self.r_point += 1\n",
    "        self.update_score()"
   ]
  }
 ],
 "metadata": {
  "kernelspec": {
   "display_name": "Python 3",
   "language": "python",
   "name": "python3"
  },
  "language_info": {
   "codemirror_mode": {
    "name": "ipython",
    "version": 3
   },
   "file_extension": ".py",
   "mimetype": "text/x-python",
   "name": "python",
   "nbconvert_exporter": "python",
   "pygments_lexer": "ipython3",
   "version": "3.7.0"
  }
 },
 "nbformat": 4,
 "nbformat_minor": 2
}
