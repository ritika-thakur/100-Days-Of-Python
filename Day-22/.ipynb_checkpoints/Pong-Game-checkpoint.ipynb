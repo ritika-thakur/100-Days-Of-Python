{
 "cells": [
  {
   "cell_type": "code",
   "execution_count": 1,
   "metadata": {},
   "outputs": [
    {
     "ename": "NameError",
     "evalue": "name 'scoreboard' is not defined",
     "output_type": "error",
     "traceback": [
      "\u001b[1;31m---------------------------------------------------------------------------\u001b[0m",
      "\u001b[1;31mNameError\u001b[0m                                 Traceback (most recent call last)",
      "\u001b[1;32m<ipython-input-1-5bcb85714488>\u001b[0m in \u001b[0;36m<module>\u001b[1;34m()\u001b[0m\n\u001b[0;32m     37\u001b[0m     \u001b[1;32mif\u001b[0m \u001b[0mball\u001b[0m\u001b[1;33m.\u001b[0m\u001b[0mxcor\u001b[0m\u001b[1;33m(\u001b[0m\u001b[1;33m)\u001b[0m \u001b[1;33m>\u001b[0m \u001b[1;36m380\u001b[0m\u001b[1;33m:\u001b[0m\u001b[1;33m\u001b[0m\u001b[0m\n\u001b[0;32m     38\u001b[0m         \u001b[0mball\u001b[0m\u001b[1;33m.\u001b[0m\u001b[0mreset_position\u001b[0m\u001b[1;33m(\u001b[0m\u001b[1;33m)\u001b[0m\u001b[1;33m\u001b[0m\u001b[0m\n\u001b[1;32m---> 39\u001b[1;33m         \u001b[0mscoreboard\u001b[0m\u001b[1;33m.\u001b[0m\u001b[0ml_point\u001b[0m\u001b[1;33m(\u001b[0m\u001b[1;33m)\u001b[0m\u001b[1;33m\u001b[0m\u001b[0m\n\u001b[0m\u001b[0;32m     40\u001b[0m \u001b[1;33m\u001b[0m\u001b[0m\n\u001b[0;32m     41\u001b[0m \u001b[1;33m\u001b[0m\u001b[0m\n",
      "\u001b[1;31mNameError\u001b[0m: name 'scoreboard' is not defined"
     ]
    }
   ],
   "source": [
    "from turtle import Screen, Turtle\n",
    "from paddle import Paddle\n",
    "from ball import Ball\n",
    "from scoreboard import Scoreboard\n",
    "import time\n",
    "\n",
    "screen = Screen()\n",
    "screen.bgcolor(\"black\")\n",
    "screen.setup(width=800, height = 600)\n",
    "screen.title(\"Pong\")\n",
    "screen.tracer(0)\n",
    "\n",
    " \n",
    "r_paddle = Paddle((350, 0))\n",
    "l_paddle = Paddle((-350, 0))\n",
    "ball = Ball()\n",
    "scoreboard = Scoreboard()\n",
    "\n",
    "\n",
    "screen.listen()\n",
    "screen.onkey(r_paddle.go_up, \"Up\")\n",
    "screen.onkey(r_paddle.go_down, \"Down\")\n",
    "screen.onkey(l_paddle.go_up, \"w\")\n",
    "screen.onkey(l_paddle.go_down, \"s\")\n",
    "\n",
    "\n",
    "game_on = True\n",
    "while game_on:\n",
    "    time.sleep(ball.move_speed)\n",
    "    screen.update()\n",
    "    ball.move()\n",
    "    \n",
    "    if ball.ycor() > 280 or ball.ycor() < -280:\n",
    "        ball.bounce_y()\n",
    "        \n",
    "    if ball.distance(r_paddle) < 50 and ball.xcor() > 320 or ball.distance(l_paddle) < 50 and ball.xcor() < -320:\n",
    "        ball.bounce_x()\n",
    "        \n",
    "    if ball.xcor() > 380:\n",
    "        ball.reset_position()\n",
    "        scoreboard.l_point()\n",
    "        \n",
    "        \n",
    "    if ball.xcor() < -380:\n",
    "        ball.reset_position()\n",
    "        scoreboard.r_point()\n",
    "        \n",
    "    \n",
    "\n",
    "screen.exitonclick()"
   ]
  },
  {
   "cell_type": "code",
   "execution_count": null,
   "metadata": {},
   "outputs": [],
   "source": []
  }
 ],
 "metadata": {
  "kernelspec": {
   "display_name": "Python 3",
   "language": "python",
   "name": "python3"
  },
  "language_info": {
   "codemirror_mode": {
    "name": "ipython",
    "version": 3
   },
   "file_extension": ".py",
   "mimetype": "text/x-python",
   "name": "python",
   "nbconvert_exporter": "python",
   "pygments_lexer": "ipython3",
   "version": "3.7.0"
  }
 },
 "nbformat": 4,
 "nbformat_minor": 2
}
