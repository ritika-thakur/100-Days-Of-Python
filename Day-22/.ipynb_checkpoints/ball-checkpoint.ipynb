{
 "cells": [
  {
   "cell_type": "code",
   "execution_count": null,
   "metadata": {},
   "outputs": [],
   "source": [
    "from turtle import Turtle()\n",
    "\n",
    "class Ball(Turtle):\n",
    "    \n",
    "    def __init__(self):\n",
    "        super.__init__()\n",
    "        self.color(\"white\")\n",
    "        self.shape(\"circle\")\n",
    "        self.penup()\n",
    "    \n",
    "    def move(self):\n",
    "        new_x = self.xcor() + 10\n",
    "        new_y = self.ycor() + 10\n",
    "        self.goto(new_x, new_y)"
   ]
  }
 ],
 "metadata": {
  "kernelspec": {
   "display_name": "Python 3",
   "language": "python",
   "name": "python3"
  },
  "language_info": {
   "codemirror_mode": {
    "name": "ipython",
    "version": 3
   },
   "file_extension": ".py",
   "mimetype": "text/x-python",
   "name": "python",
   "nbconvert_exporter": "python",
   "pygments_lexer": "ipython3",
   "version": "3.7.0"
  }
 },
 "nbformat": 4,
 "nbformat_minor": 2
}
