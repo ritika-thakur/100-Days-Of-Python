{
 "cells": [
  {
   "cell_type": "code",
   "execution_count": 1,
   "metadata": {},
   "outputs": [],
   "source": [
    "travel_log = [\n",
    "{\n",
    "  \"country\": \"France\",\n",
    "  \"visits\": 12,\n",
    "  \"cities\": [\"Paris\", \"Lille\", \"Dijon\"]\n",
    "},\n",
    "{\n",
    "  \"country\": \"Germany\",\n",
    "  \"visits\": 5,\n",
    "  \"cities\": [\"Berlin\", \"Hamburg\", \"Stuttgart\"]\n",
    "},\n",
    "]\n",
    "\n",
    "def add_new_country(country_visited, number_of_visits, cities_visited):\n",
    "    new_log = dict()\n",
    "    new_log[\"country\"] = country_visited\n",
    "    new_log[\"visits\"] = number_of_visits\n",
    "    new_log[\"cities\"] = cities_visited\n",
    "    travel_log.append(new_log)\n",
    "    "
   ]
  },
  {
   "cell_type": "code",
   "execution_count": 2,
   "metadata": {},
   "outputs": [
    {
     "data": {
      "text/plain": [
       "[{'country': 'France', 'visits': 12, 'cities': ['Paris', 'Lille', 'Dijon']},\n",
       " {'country': 'Germany',\n",
       "  'visits': 5,\n",
       "  'cities': ['Berlin', 'Hamburg', 'Stuttgart']},\n",
       " {'country': 'Japan', 'visits': 3, 'cities': ['Tokyo', 'Kyoto', 'Hokkaido']},\n",
       " {'country': 'Russia', 'visits': 2, 'cities': ['Moscow', 'Saint Petersburg']}]"
      ]
     },
     "execution_count": 2,
     "metadata": {},
     "output_type": "execute_result"
    }
   ],
   "source": [
    "add_new_country(\"Japan\", 3, [\"Tokyo\", \"Kyoto\", \"Hokkaido\"])\n",
    "add_new_country(\"Russia\", 2, [\"Moscow\", \"Saint Petersburg\"])\n",
    "travel_log\n"
   ]
  },
  {
   "cell_type": "code",
   "execution_count": 3,
   "metadata": {},
   "outputs": [
    {
     "data": {
      "text/plain": [
       "[{'country': 'France', 'visits': 12, 'cities': ['Paris', 'Lille', 'Dijon']},\n",
       " {'country': 'Germany',\n",
       "  'visits': 5,\n",
       "  'cities': ['Berlin', 'Hamburg', 'Stuttgart']},\n",
       " {'country': 'Japan', 'visits': 3, 'cities': ['Tokyo', 'Kyoto', 'Hokkaido']},\n",
       " {'country': 'Russia', 'visits': 2, 'cities': ['Moscow', 'Saint Petersburg']},\n",
       " {'country': 'Nepal', 'visits': 1, 'cities': ['Kathmandu']}]"
      ]
     },
     "execution_count": 3,
     "metadata": {},
     "output_type": "execute_result"
    }
   ],
   "source": [
    "add_new_country(\"Nepal\", 1, [\"Kathmandu\"])\n",
    "travel_log"
   ]
  }
 ],
 "metadata": {
  "kernelspec": {
   "display_name": "Python 3",
   "language": "python",
   "name": "python3"
  },
  "language_info": {
   "codemirror_mode": {
    "name": "ipython",
    "version": 3
   },
   "file_extension": ".py",
   "mimetype": "text/x-python",
   "name": "python",
   "nbconvert_exporter": "python",
   "pygments_lexer": "ipython3",
   "version": "3.7.0"
  }
 },
 "nbformat": 4,
 "nbformat_minor": 2
}
