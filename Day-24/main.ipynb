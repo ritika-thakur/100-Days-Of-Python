{
 "cells": [
  {
   "cell_type": "code",
   "execution_count": 1,
   "metadata": {},
   "outputs": [
    {
     "name": "stdout",
     "output_type": "stream",
     "text": [
      "['Aang\\n', 'Zuko\\n', 'Appa\\n', 'Katara\\n', 'Sokka\\n', 'Momo\\n', 'Uncle Iroh\\n', 'Toph']\n"
     ]
    }
   ],
   "source": [
    "PLACEHOLDER = \"[name]\"\n",
    "\n",
    "with open(\"./Input/Names/invited_names.txt\") as names_file:\n",
    "    names = names_file.readlines()\n",
    "    print(names)"
   ]
  },
  {
   "cell_type": "code",
   "execution_count": 2,
   "metadata": {},
   "outputs": [
    {
     "name": "stdout",
     "output_type": "stream",
     "text": [
      "Dear [name],\n",
      "\n",
      "You are invited to my birthday this Saturday.\n",
      "\n",
      "Hope you can make it!\n",
      "\n",
      "Tiara\n",
      "\n"
     ]
    }
   ],
   "source": [
    "with open(\"./Input/Letters/starting_letter.txt\") as file:\n",
    "    print(file.read())"
   ]
  },
  {
   "cell_type": "code",
   "execution_count": 3,
   "metadata": {},
   "outputs": [],
   "source": [
    "with open(\"./Input/Letters/starting_letter.txt\") as letter_file:\n",
    "    letter_content = letter_file.read()\n",
    "    for name in names:\n",
    "        stripped_name = name.strip()\n",
    "        new_letter = letter_content.replace(PLACEHOLDER, stripped_name)\n",
    "        with open(f\"./Output/ReadyToSend/letter_for_{stripped_name}.txt\", \"w\") as completed_letter:\n",
    "            completed_letter.write(new_letter)"
   ]
  },
  {
   "cell_type": "code",
   "execution_count": 4,
   "metadata": {},
   "outputs": [
    {
     "name": "stdout",
     "output_type": "stream",
     "text": [
      "Dear Aang,\n",
      "\n",
      "You are invited to my birthday this Saturday.\n",
      "\n",
      "Hope you can make it!\n",
      "\n",
      "Tiara\n",
      "\n",
      "Dear Zuko,\n",
      "\n",
      "You are invited to my birthday this Saturday.\n",
      "\n",
      "Hope you can make it!\n",
      "\n",
      "Tiara\n",
      "\n",
      "Dear Appa,\n",
      "\n",
      "You are invited to my birthday this Saturday.\n",
      "\n",
      "Hope you can make it!\n",
      "\n",
      "Tiara\n",
      "\n",
      "Dear Katara,\n",
      "\n",
      "You are invited to my birthday this Saturday.\n",
      "\n",
      "Hope you can make it!\n",
      "\n",
      "Tiara\n",
      "\n",
      "Dear Sokka,\n",
      "\n",
      "You are invited to my birthday this Saturday.\n",
      "\n",
      "Hope you can make it!\n",
      "\n",
      "Tiara\n",
      "\n",
      "Dear Momo,\n",
      "\n",
      "You are invited to my birthday this Saturday.\n",
      "\n",
      "Hope you can make it!\n",
      "\n",
      "Tiara\n",
      "\n",
      "Dear Uncle Iroh,\n",
      "\n",
      "You are invited to my birthday this Saturday.\n",
      "\n",
      "Hope you can make it!\n",
      "\n",
      "Tiara\n",
      "\n",
      "Dear Toph,\n",
      "\n",
      "You are invited to my birthday this Saturday.\n",
      "\n",
      "Hope you can make it!\n",
      "\n",
      "Tiara\n",
      "\n"
     ]
    }
   ],
   "source": [
    "for name in names:\n",
    "    stripped_name = name.strip()\n",
    "    with open(f\"./Output/ReadyToSend/letter_for_{stripped_name}.txt\") as file:\n",
    "        final_letter = file.read()\n",
    "        print(final_letter)"
   ]
  },
  {
   "cell_type": "code",
   "execution_count": null,
   "metadata": {},
   "outputs": [],
   "source": []
  }
 ],
 "metadata": {
  "kernelspec": {
   "display_name": "Python 3",
   "language": "python",
   "name": "python3"
  },
  "language_info": {
   "codemirror_mode": {
    "name": "ipython",
    "version": 3
   },
   "file_extension": ".py",
   "mimetype": "text/x-python",
   "name": "python",
   "nbconvert_exporter": "python",
   "pygments_lexer": "ipython3",
   "version": "3.7.0"
  }
 },
 "nbformat": 4,
 "nbformat_minor": 2
}
