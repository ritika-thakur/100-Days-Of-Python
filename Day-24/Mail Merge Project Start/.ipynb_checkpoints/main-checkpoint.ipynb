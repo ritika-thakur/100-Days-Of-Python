{
 "cells": [
  {
   "cell_type": "code",
   "execution_count": 3,
   "metadata": {},
   "outputs": [
    {
     "name": "stdout",
     "output_type": "stream",
     "text": [
      "['Aang\\n', 'Zuko\\n', 'Appa\\n', 'Katara\\n', 'Sokka\\n', 'Momo\\n', 'Uncle Iroh\\n', 'Toph']\n"
     ]
    }
   ],
   "source": [
    "PLACEHOLDER = \"[name]\"\n",
    "\n",
    "with open(\"./Input/Names/invited_names.txt\") as names_file:\n",
    "    names = names_file.readlines()\n",
    "    print(names)"
   ]
  },
  {
   "cell_type": "code",
   "execution_count": null,
   "metadata": {},
   "outputs": [],
   "source": [
    "with open(\"./Input/Letters/starting_letter.txt\") "
   ]
  }
 ],
 "metadata": {
  "kernelspec": {
   "display_name": "Python 3",
   "language": "python",
   "name": "python3"
  },
  "language_info": {
   "codemirror_mode": {
    "name": "ipython",
    "version": 3
   },
   "file_extension": ".py",
   "mimetype": "text/x-python",
   "name": "python",
   "nbconvert_exporter": "python",
   "pygments_lexer": "ipython3",
   "version": "3.7.0"
  }
 },
 "nbformat": 4,
 "nbformat_minor": 2
}
