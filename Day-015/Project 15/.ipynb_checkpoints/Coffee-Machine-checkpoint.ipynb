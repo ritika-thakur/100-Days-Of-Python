{
 "cells": [
  {
   "cell_type": "code",
   "execution_count": 3,
   "metadata": {},
   "outputs": [],
   "source": [
    "#from data import MENU"
   ]
  },
  {
   "cell_type": "code",
   "execution_count": 5,
   "metadata": {},
   "outputs": [],
   "source": [
    "MENU = {\n",
    "    \"espresso\": {\n",
    "        \"ingredients\": {\n",
    "            \"water\": 50,\n",
    "            \"coffee\": 18,\n",
    "        },\n",
    "        \"cost\": 1.5,\n",
    "    },\n",
    "    \"latte\": {\n",
    "        \"ingredients\": {\n",
    "            \"water\": 200,\n",
    "            \"milk\": 150,\n",
    "            \"coffee\": 24,\n",
    "        },\n",
    "        \"cost\": 2.5,\n",
    "    },\n",
    "    \"cappuccino\": {\n",
    "        \"ingredients\": {\n",
    "            \"water\": 250,\n",
    "            \"milk\": 100,\n",
    "            \"coffee\": 24,\n",
    "        },\n",
    "        \"cost\": 3.0,\n",
    "    }\n",
    "}\n",
    "\n",
    "resources = {\n",
    "    \"water\": 300,\n",
    "    \"milk\": 200,\n",
    "    \"coffee\": 100,\n",
    "}\n"
   ]
  },
  {
   "cell_type": "markdown",
   "metadata": {},
   "source": [
    " 100 pennies, 20 nickels, 10 dimes, or 4 quarters; each = 1 dollar."
   ]
  },
  {
   "cell_type": "code",
   "execution_count": null,
   "metadata": {},
   "outputs": [
    {
     "name": "stdout",
     "output_type": "stream",
     "text": [
      "{'water': 300, 'milk': 200, 'coffee': 100}\n",
      "What would you like to have? (espresso/latte/cappuccino): cappuccino\n",
      "{'water': 50, 'milk': 100, 'coffee': 76}\n",
      "Sorry there is not enough water.\n",
      "{'water': 50, 'milk': 100, 'coffee': 76}\n"
     ]
    }
   ],
   "source": [
    "money = 0\n",
    "resources = {\n",
    "    \"water\": 300,\n",
    "    \"milk\": 200,\n",
    "    \"coffee\": 100,\n",
    "}\n",
    "print(resources)\n",
    "def prepare_coffee(coffee):\n",
    "    for ingredient, amount in MENU[coffee]['ingredients'].items():\n",
    "        if amount <= resources[ingredient]:\n",
    "            return resources[ingredient] = resources[ingredient] - amount            \n",
    "        else:\n",
    "            print(f'Sorry there is not enough {ingredient}.')\n",
    "            print(resources)\n",
    "            return False\n",
    "    \n",
    "    \n",
    "def transaction():\n",
    "    quarters = int(input(\"How many quarters?: \"))\n",
    "    dimes = int(input(\"How many dimes?: \"))\n",
    "    nickles = int(input(\"How many nickles?: \"))\n",
    "    pennies = int(input(\"How many pennies?: \"))\n",
    "    money_inserted = (quarters/4) + (dimes/10) + (nickles/20) + (pennies/100)\n",
    "    money_returned = money_inserted - Menu[drink][cost]\n",
    "    return money_inserted, money_returned\n",
    "\n",
    "resources = {\n",
    "    \"water\": 300,\n",
    "    \"milk\": 200,\n",
    "    \"coffee\": 100,\n",
    "}\n",
    "    \n",
    "machine_on = True \n",
    "while machine_on:\n",
    "    drink = input(\"What would you like to have? (espresso/latte/cappuccino): \")\n",
    "    if drink == 'report':\n",
    "        print(f\"Water: {resources['water']}ml\")\n",
    "        print(f\"Milk: {resources['milk']}ml\")\n",
    "        print(f\"Coffee: {resources['coffee']}g\")\n",
    "        print(f\"Money: ${money}\")\n",
    "    elif drink == 'off':\n",
    "        print(\"Turning off\")\n",
    "        machine_on = False\n",
    "    elif drink == 'espresso' or 'latte' or 'cappuccino':\n",
    "        prepare_coffee(drink)\n",
    "        print(resources)\n",
    "        if prepare_coffee(drink) == False:\n",
    "            continue\n",
    "        print(\"Please insert coins. \")\n",
    "        money_inserted, returned_change = transaction()\n",
    "        if money_inserted == Menu[drink][cost]:\n",
    "            print(f\"Here is your {drink} ☕ Enjoy!\")\n",
    "            money = Menu[drink][cost]\n",
    "        elif money_inserted <= Menu[drink][cost]:\n",
    "            print(\"Sorry that's not enough money! Money Refunded.\")\n",
    "        elif money_inserted >= Menu[drink][cost]:\n",
    "            print(f\"Here is your {drink} ☕ Enjoy!\")            \n",
    "            print(f\"Here is your ${returned_change} change.\")\n",
    "            \n",
    "            money = Menu[drink][cost]\n",
    "        "
   ]
  },
  {
   "cell_type": "code",
   "execution_count": null,
   "metadata": {},
   "outputs": [],
   "source": []
  }
 ],
 "metadata": {
  "kernelspec": {
   "display_name": "Python 3",
   "language": "python",
   "name": "python3"
  },
  "language_info": {
   "codemirror_mode": {
    "name": "ipython",
    "version": 3
   },
   "file_extension": ".py",
   "mimetype": "text/x-python",
   "name": "python",
   "nbconvert_exporter": "python",
   "pygments_lexer": "ipython3",
   "version": "3.7.0"
  }
 },
 "nbformat": 4,
 "nbformat_minor": 2
}
