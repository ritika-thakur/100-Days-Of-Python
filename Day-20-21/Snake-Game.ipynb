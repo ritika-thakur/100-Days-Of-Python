{
 "cells": [
  {
   "cell_type": "code",
   "execution_count": 1,
   "metadata": {},
   "outputs": [],
   "source": [
    "from turtle import Screen\n",
    "import time\n",
    "from snake import Snake\n",
    "from food import Food\n",
    "from scoreboard import Score\n",
    "\n",
    "\n",
    "screen = Screen()\n",
    "screen.setup(width = 600, height = 600)\n",
    "screen.bgcolor(\"black\")\n",
    "screen.title(\"Snake Game\")\n",
    "screen.tracer(0)\n",
    "\n",
    "snake = Snake()\n",
    "score = Score()\n",
    "food = Food()\n",
    "\n",
    "screen.listen()\n",
    "screen.onkey(snake.up, \"Up\")\n",
    "screen.onkey(snake.down, \"Down\")\n",
    "screen.onkey(snake.left, \"Left\")\n",
    "screen.onkey(snake.right, \"Right\")\n",
    "\n",
    "\n",
    "game_on = True\n",
    "while game_on:\n",
    "    screen.update()\n",
    "    time.sleep(0.1)\n",
    "    snake.move()\n",
    "    if snake.head.distance(food) < 15:\n",
    "        score.increase_score()\n",
    "        snake.extend()\n",
    "        food.refresh()\n",
    "    \n",
    "    if snake.head.xcor() > 290 or snake.head.xcor() < -290 or snake.head.ycor() > 290 or snake.head.ycor() < -290:\n",
    "        game_on = False\n",
    "        score.game_over()\n",
    "\n",
    "    for seg in snake.segments[1:]:\n",
    "        if snake.head.distance(seg) < 10 :\n",
    "            game_on = False\n",
    "            score.game_over()\n",
    "    \n",
    "screen.exitonclick()\n"
   ]
  }
 ],
 "metadata": {
  "kernelspec": {
   "display_name": "Python 3",
   "language": "python",
   "name": "python3"
  },
  "language_info": {
   "codemirror_mode": {
    "name": "ipython",
    "version": 3
   },
   "file_extension": ".py",
   "mimetype": "text/x-python",
   "name": "python",
   "nbconvert_exporter": "python",
   "pygments_lexer": "ipython3",
   "version": "3.7.0"
  }
 },
 "nbformat": 4,
 "nbformat_minor": 2
}
