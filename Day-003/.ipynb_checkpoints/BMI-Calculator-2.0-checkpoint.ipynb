{
 "cells": [
  {
   "cell_type": "code",
   "execution_count": 1,
   "metadata": {},
   "outputs": [
    {
     "name": "stdout",
     "output_type": "stream",
     "text": [
      "Enter your height in metres(m) :1.67\n",
      "Enter your weight in Kilograms(kgs) :56\n",
      "bmi : 20\n",
      "You've a normal weight.\n"
     ]
    }
   ],
   "source": [
    "height = float(input(\"Enter your height in metres(m) :\"))\n",
    "weight = float(input(\"Enter your weight in Kilograms(kgs) :\"))\n",
    "\n",
    "bmi = weight / (height)**2\n",
    "\n",
    "print(\"bmi : {}\".format(round(bmi)))\n",
    "\n",
    "if bmi<18.5:\n",
    "    print(\"You're underweight.\")\n",
    "elif bmi>=18.5 and bmi<=25:\n",
    "    print(\"You've a normal weight.\")\n",
    "elif bmi>25 and bmi<=30:\n",
    "    print(\"You're overweright\")\n",
    "elif bmi>30 and bmi<35:\n",
    "    print(\"You're obese\")\n",
    "elif bmi>=35:\n",
    "    print(\"You're clinically obese and suggested to see a doctor\")"
   ]
  }
 ],
 "metadata": {
  "kernelspec": {
   "display_name": "Python 3",
   "language": "python",
   "name": "python3"
  },
  "language_info": {
   "codemirror_mode": {
    "name": "ipython",
    "version": 3
   },
   "file_extension": ".py",
   "mimetype": "text/x-python",
   "name": "python",
   "nbconvert_exporter": "python",
   "pygments_lexer": "ipython3",
   "version": "3.7.0"
  }
 },
 "nbformat": 4,
 "nbformat_minor": 2
}
