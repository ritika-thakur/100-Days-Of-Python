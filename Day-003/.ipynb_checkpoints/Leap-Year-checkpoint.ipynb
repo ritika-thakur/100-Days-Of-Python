{
 "cells": [
  {
   "cell_type": "code",
   "execution_count": 1,
   "metadata": {},
   "outputs": [
    {
     "name": "stdout",
     "output_type": "stream",
     "text": [
      "Enter the year YOu want to Check!\n",
      "2021\n",
      "Not a leap year\n"
     ]
    }
   ],
   "source": [
    "year = int(input(\"Enter the year YOu want to Check!\\n\"))\n",
    "\n",
    "def even(num,a):\n",
    "    if num%a==0:\n",
    "        return True\n",
    "    else: \n",
    "        return False\n",
    "if even(year,4):\n",
    "    if even(year,100):\n",
    "        if even(year,400):\n",
    "            print(\"It is a Leap Year\")\n",
    "        else:\n",
    "            print(\"Not a Leap Year\")\n",
    "    else:\n",
    "        print(\"It's a Leap Year\")\n",
    "else:\n",
    "    print(\"Not a leap year\")"
   ]
  }
 ],
 "metadata": {
  "kernelspec": {
   "display_name": "Python 3",
   "language": "python",
   "name": "python3"
  },
  "language_info": {
   "codemirror_mode": {
    "name": "ipython",
    "version": 3
   },
   "file_extension": ".py",
   "mimetype": "text/x-python",
   "name": "python",
   "nbconvert_exporter": "python",
   "pygments_lexer": "ipython3",
   "version": "3.7.0"
  }
 },
 "nbformat": 4,
 "nbformat_minor": 2
}
