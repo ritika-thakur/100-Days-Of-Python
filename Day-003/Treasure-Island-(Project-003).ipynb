{
 "cells": [
  {
   "cell_type": "code",
   "execution_count": 2,
   "metadata": {},
   "outputs": [
    {
     "name": "stdout",
     "output_type": "stream",
     "text": [
      "Welcome to Treasure Island.\n",
      "Your mission is to find the treasure.\n",
      "You're at a crossroad. Where do you want to go? *Left* or *Right*? Left\n",
      "You've come to a lake. There's an island in the middle of the lake. Type *Wait* to wait for a boat or *Swim* to swim across. wait\n",
      "You arrive at the island unharmed. There is a house with 3 doors. One red, one yellow and one blue. Which door would you choose? yellow\n",
      "You found the treasure. You Win!\n"
     ]
    }
   ],
   "source": [
    "print(\"Welcome to Treasure Island.\")\n",
    "print(\"Your mission is to find the treasure.\") \n",
    "\n",
    "direction = input(\"You\\'re at a crossroad. Where do you want to go? *Left* or *Right*? \").lower()\n",
    "\n",
    "if direction == \"left\":\n",
    "  choice1 = input(\"You've come to a lake. There's an island in the middle of the lake. Type *Wait* to wait for a boat or *Swim* to swim across. \").lower()\n",
    "  if choice1 == \"wait\":\n",
    "    choice2 = input(\"You arrive at the island unharmed. There is a house with 3 doors. One red, one yellow and one blue. Which door would you choose? \").lower()\n",
    "    if choice2 == \"red\" :\n",
    "      print(\"You were burned by fire. GAME OVER!\")\n",
    "    elif choice2 == \"blue\":\n",
    "      print(\"You were eated by the beast! GAME OVER.\")\n",
    "    elif choice2 == \"yellow\":\n",
    "      print(\"You found the treasure. You Win!\") \n",
    "    else:\n",
    "      print(\"You chose a door that didn't exist. GAME OVER!\")\n",
    "  else:\n",
    "    print(\"You were attacked by trout! GAME OVER.\")   \n",
    "elif direction == \"right\":\n",
    "  print(\"GAME OVER: You fell into a hole.\")\n",
    "else:\n",
    "  print(\"GAME OVER!\")\n"
   ]
  }
 ],
 "metadata": {
  "kernelspec": {
   "display_name": "Python 3",
   "language": "python",
   "name": "python3"
  },
  "language_info": {
   "codemirror_mode": {
    "name": "ipython",
    "version": 3
   },
   "file_extension": ".py",
   "mimetype": "text/x-python",
   "name": "python",
   "nbconvert_exporter": "python",
   "pygments_lexer": "ipython3",
   "version": "3.7.0"
  }
 },
 "nbformat": 4,
 "nbformat_minor": 2
}
