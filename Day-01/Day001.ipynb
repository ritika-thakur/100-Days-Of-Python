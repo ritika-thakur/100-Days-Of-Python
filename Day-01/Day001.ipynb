{
 "cells": [
  {
   "cell_type": "markdown",
   "metadata": {},
   "source": [
    "## Ex 1: Printing\n",
    "\n",
    "# Instructions\n",
    "\n",
    "Write a program that prints the some notes from the previous lesson using what you have learnt about the Python print function. \n",
    "\n",
    "**Warning:** The output in your program should match the example output shown below exactly, character for character, even spaces and symbols should be identical, otherwise the tests won't pass.\n",
    "\n",
    "# Example Output\n",
    "\n",
    "After you have written your code, you should run your program and it should print the following:\n",
    "\n",
    "```\n",
    "Day 1 - Python Print Function\n",
    "```\n",
    "\n",
    "```\n",
    "The function is declared like this:\n",
    "```\n",
    "\n",
    "```\n",
    "print('what to print')\n",
    "```\n"
   ]
  },
  {
   "cell_type": "code",
   "execution_count": 1,
   "metadata": {},
   "outputs": [
    {
     "name": "stdout",
     "output_type": "stream",
     "text": [
      "Day 1 - Python Print Function\n"
     ]
    }
   ],
   "source": [
    "print(\"Day 1 - Python Print Function\")"
   ]
  },
  {
   "cell_type": "code",
   "execution_count": 2,
   "metadata": {},
   "outputs": [
    {
     "name": "stdout",
     "output_type": "stream",
     "text": [
      "The function is declared like this:\n"
     ]
    }
   ],
   "source": [
    "print(\"The function is declared like this:\")"
   ]
  },
  {
   "cell_type": "code",
   "execution_count": 3,
   "metadata": {},
   "outputs": [
    {
     "name": "stdout",
     "output_type": "stream",
     "text": [
      "print('what to print')\n"
     ]
    }
   ],
   "source": [
    "print(\"print('what to print')\")"
   ]
  },
  {
   "cell_type": "code",
   "execution_count": 4,
   "metadata": {},
   "outputs": [
    {
     "name": "stdout",
     "output_type": "stream",
     "text": [
      "Hello World\n",
      "Hello World\n",
      "Hello World\n"
     ]
    }
   ],
   "source": [
    "print(\"Hello World\\nHello World\\nHello World\")"
   ]
  },
  {
   "cell_type": "markdown",
   "metadata": {},
   "source": [
    "## Ex 2: Debugging\n",
    "\n",
    "# Instructions\n",
    "\n",
    "Look at the code in the code below. There are errors in all of the lines of code. Fix the code so that it runs without errors.\n",
    "\n",
    "```\n",
    "print(Day 1 - String Manipulation\")\n",
    "print(\"String Concatenation is done with the \"+\" sign.\")\n",
    "  print('e.g. print(\"Hello \" + \"world\")')\n",
    "print((\"New lines can be created with a backslash and n.\")\n",
    "```\n",
    "\n",
    "\n",
    "**Warning:** The output in your program should match the example output shown below exactly, character for character, even spaces and symbols should be identical, otherwise the tests won't pass. \n",
    "\n",
    "# Example Output\n",
    "\n",
    "When you run your program, it should print the following:\n",
    "\n",
    "```\n",
    "Day 1 - String Manipulation\n",
    "String Concatenation is done with the \"+\" sign.\n",
    "e.g. print(\"Hello \" + \"world\")\n",
    "New lines can be created with a backslash and n.\n",
    "```\n"
   ]
  },
  {
   "cell_type": "code",
   "execution_count": 5,
   "metadata": {},
   "outputs": [
    {
     "name": "stdout",
     "output_type": "stream",
     "text": [
      "Day 1 - String Manipulation\n",
      "String Concatenation is done with the  sign.\n",
      "e.g. print(\"Hello \" + \"world\")\n",
      "New lines can be created with a backslash and n.\n"
     ]
    }
   ],
   "source": [
    "print(\"Day 1 - String Manipulation\")# Missing \"\n",
    "print(\"String Concatenation is done with the \"+\" sign.\")# NO error\n",
    "print('e.g. print(\"Hello \" + \"world\")')# Indentation Error\n",
    "print(\"New lines can be created with a backslash and n.\")# Extra (\n"
   ]
  },
  {
   "cell_type": "markdown",
   "metadata": {},
   "source": [
    "## Ex 3: Inputs\n",
    "\n",
    "# Instructions\n",
    "\n",
    "Write a program that prints the number of characters in a user's name. \n",
    "\n",
    "# Example Input\n",
    "\n",
    "```\n",
    "Ritika\n",
    "```\n",
    "\n",
    "# Example Output\n",
    "\n",
    "```\n",
    "6\n",
    "```\n"
   ]
  },
  {
   "cell_type": "code",
   "execution_count": 6,
   "metadata": {},
   "outputs": [
    {
     "name": "stdout",
     "output_type": "stream",
     "text": [
      "What is you name?Ritika\n",
      "Hello Ritika\n"
     ]
    }
   ],
   "source": [
    "# input() will get user in your console\n",
    "# then print() will print hello and user input\n",
    "\n",
    "print(\"Hello \"+ input(\"What is you name?\"))"
   ]
  },
  {
   "cell_type": "markdown",
   "metadata": {},
   "source": [
    "#### Calculate the length of the String Entered"
   ]
  },
  {
   "cell_type": "code",
   "execution_count": 7,
   "metadata": {},
   "outputs": [
    {
     "name": "stdout",
     "output_type": "stream",
     "text": [
      "What is you name?Ritika\n",
      "6\n"
     ]
    }
   ],
   "source": [
    "print( len ( input ( \"What is you name?\" ) ) )"
   ]
  },
  {
   "cell_type": "markdown",
   "metadata": {},
   "source": [
    "## Ex 4: Variables\n",
    "\n",
    "# Instructions\n",
    "\n",
    "Write a program that switches the values stored in the variables a and b. \n",
    "\n",
    "**Warning.** Your program should work for different inputs. e.g. any value of a and b.\n",
    "\n",
    "# Example Input\n",
    "\n",
    "```\n",
    "a: 3\n",
    "```\n",
    "\n",
    "```\n",
    "b: 5\n",
    "```\n",
    "\n",
    "# Example Output\n",
    "\n",
    "```\n",
    "a: 5\n",
    "```\n",
    "\n",
    "```\n",
    "b: 3\n",
    "```\n"
   ]
  },
  {
   "cell_type": "code",
   "execution_count": 9,
   "metadata": {},
   "outputs": [
    {
     "name": "stdout",
     "output_type": "stream",
     "text": [
      "Enter a: 3\n",
      "Enter b: 4\n",
      "4\n",
      "3\n"
     ]
    }
   ],
   "source": [
    "a = input(\"Enter a: \")\n",
    "\n",
    "b = input(\"Enter b: \")\n",
    "\n",
    "a,b = b,a\n",
    "\n",
    "print(a+'\\n'+b)"
   ]
  }
 ],
 "metadata": {
  "kernelspec": {
   "display_name": "Python 3",
   "language": "python",
   "name": "python3"
  },
  "language_info": {
   "codemirror_mode": {
    "name": "ipython",
    "version": 3
   },
   "file_extension": ".py",
   "mimetype": "text/x-python",
   "name": "python",
   "nbconvert_exporter": "python",
   "pygments_lexer": "ipython3",
   "version": "3.7.0"
  }
 },
 "nbformat": 4,
 "nbformat_minor": 2
}
