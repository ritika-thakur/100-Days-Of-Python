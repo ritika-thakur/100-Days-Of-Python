{
 "cells": [
  {
   "cell_type": "markdown",
   "metadata": {},
   "source": [
    "## Band name generator\n",
    "\n",
    "1. Create a greeting for your program.\n",
    "2. Ask the user for the city that they grew up in.\n",
    "3. Ask the user for the name of a pet.\n",
    "4. Combine the name of their city and pet and show them their band name."
   ]
  },
  {
   "cell_type": "code",
   "execution_count": 1,
   "metadata": {},
   "outputs": [
    {
     "name": "stdout",
     "output_type": "stream",
     "text": [
      "Welcome to the band name genrator\n",
      "Which city did you grow up in?\n",
      "Tokyo\n",
      "what is the name of your pet?\n",
      "Champ\n",
      "Your band name could be Tokyo Champ\n"
     ]
    }
   ],
   "source": [
    "print(\"Welcome to the band name genrator\")\n",
    "\n",
    "city = input(\"Which city did you grow up in?\\n\")\n",
    "\n",
    "pet = input(\"what is the name of your pet?\\n\")\n",
    "\n",
    "print(\"Your band name could be \"+ city + \" \" + pet )"
   ]
  }
 ],
 "metadata": {
  "kernelspec": {
   "display_name": "Python 3",
   "language": "python",
   "name": "python3"
  },
  "language_info": {
   "codemirror_mode": {
    "name": "ipython",
    "version": 3
   },
   "file_extension": ".py",
   "mimetype": "text/x-python",
   "name": "python",
   "nbconvert_exporter": "python",
   "pygments_lexer": "ipython3",
   "version": "3.7.0"
  }
 },
 "nbformat": 4,
 "nbformat_minor": 2
}
