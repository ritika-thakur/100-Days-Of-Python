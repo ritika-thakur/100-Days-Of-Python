{
 "cells": [
  {
   "cell_type": "code",
   "execution_count": 1,
   "metadata": {},
   "outputs": [
    {
     "name": "stdout",
     "output_type": "stream",
     "text": [
      "Welcome to Python Pizza Deliveries!\n",
      "What size pizza do you want? S, M, or L m\n",
      "Do you want pepperoni? Y or N y\n",
      "Do you want extra cheese? Y or N y\n",
      "Your final bill is: $24\n"
     ]
    }
   ],
   "source": [
    "print(\"Welcome to Python Pizza Deliveries!\")\n",
    "size = input(\"What size pizza do you want? S, M, or L \")\n",
    "add_pepperoni = input(\"Do you want pepperoni? Y or N \")\n",
    "extra_cheese = input(\"Do you want extra cheese? Y or N \")\n",
    "\n",
    "price_size = 0\n",
    "cheese_price = 0\n",
    "\n",
    "if size.upper() == \"L\":\n",
    "    price_size += 25\n",
    "    if add_pepperoni.upper() == \"Y\": price_size += 3\n",
    "elif size.upper() == \"M\":\n",
    "    price_size += 20\n",
    "    if add_pepperoni.upper() == \"Y\": price_size += 3\n",
    "elif size.upper() == \"S\":\n",
    "    price_size += 15\n",
    "    if add_pepperoni.upper() == \"Y\": price_size += 2\n",
    "\n",
    "if extra_cheese.upper() == \"Y\":\n",
    "    cheese_price += 1\n",
    "\n",
    "print(f\"Your final bill is: ${price_size + cheese_price}\")"
   ]
  }
 ],
 "metadata": {
  "kernelspec": {
   "display_name": "Python 3",
   "language": "python",
   "name": "python3"
  },
  "language_info": {
   "codemirror_mode": {
    "name": "ipython",
    "version": 3
   },
   "file_extension": ".py",
   "mimetype": "text/x-python",
   "name": "python",
   "nbconvert_exporter": "python",
   "pygments_lexer": "ipython3",
   "version": "3.7.0"
  }
 },
 "nbformat": 4,
 "nbformat_minor": 2
}
