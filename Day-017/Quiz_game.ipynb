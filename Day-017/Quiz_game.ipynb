{
 "cells": [
  {
   "cell_type": "code",
   "execution_count": 22,
   "metadata": {},
   "outputs": [
    {
     "ename": "KeyError",
     "evalue": "'question'",
     "output_type": "error",
     "traceback": [
      "\u001b[1;31m---------------------------------------------------------------------------\u001b[0m",
      "\u001b[1;31mKeyError\u001b[0m                                  Traceback (most recent call last)",
      "\u001b[1;32m<ipython-input-22-b1828b059da9>\u001b[0m in \u001b[0;36m<module>\u001b[1;34m()\u001b[0m\n\u001b[0;32m      5\u001b[0m \u001b[0mquestion_bank\u001b[0m \u001b[1;33m=\u001b[0m \u001b[1;33m[\u001b[0m\u001b[1;33m]\u001b[0m\u001b[1;33m\u001b[0m\u001b[0m\n\u001b[0;32m      6\u001b[0m \u001b[1;32mfor\u001b[0m \u001b[0mquestion\u001b[0m \u001b[1;32min\u001b[0m \u001b[0mquestion_data\u001b[0m\u001b[1;33m:\u001b[0m\u001b[1;33m\u001b[0m\u001b[0m\n\u001b[1;32m----> 7\u001b[1;33m     \u001b[0mquestion_text\u001b[0m \u001b[1;33m=\u001b[0m \u001b[0mquestion\u001b[0m\u001b[1;33m[\u001b[0m\u001b[1;34m\"question\"\u001b[0m\u001b[1;33m]\u001b[0m\u001b[1;33m\u001b[0m\u001b[0m\n\u001b[0m\u001b[0;32m      8\u001b[0m     \u001b[0mquestion_answer\u001b[0m \u001b[1;33m=\u001b[0m \u001b[0mquestion\u001b[0m\u001b[1;33m[\u001b[0m\u001b[1;34m\"correct_answer\"\u001b[0m\u001b[1;33m]\u001b[0m\u001b[1;33m\u001b[0m\u001b[0m\n\u001b[0;32m      9\u001b[0m     \u001b[0mnew_question\u001b[0m \u001b[1;33m=\u001b[0m \u001b[0mQuestion\u001b[0m\u001b[1;33m(\u001b[0m\u001b[0mquestion_text\u001b[0m\u001b[1;33m,\u001b[0m \u001b[0mquestion_answer\u001b[0m\u001b[1;33m)\u001b[0m\u001b[1;33m\u001b[0m\u001b[0m\n",
      "\u001b[1;31mKeyError\u001b[0m: 'question'"
     ]
    }
   ],
   "source": [
    "from question_model import Question\n",
    "from data import question_data\n",
    "from quiz_brain import QuizBrain\n",
    "\n",
    "question_bank = []\n",
    "for question in question_data:\n",
    "    question_text = question[\"question\"]\n",
    "    question_answer = question[\"correct_answer\"]\n",
    "    new_question = Question(question_text, question_answer)\n",
    "    question_bank.append(new_question)\n",
    "\n",
    "quiz = QuizBrain(question_bank)\n",
    "\n",
    "while quiz.still_has_questions():\n",
    "    quiz.next_question()\n",
    "\n",
    "print(\"You've completed the quiz\")\n",
    "print(f\"Your final score was: {quiz.score}/{quiz.question_number}\")\n"
   ]
  },
  {
   "cell_type": "code",
   "execution_count": null,
   "metadata": {},
   "outputs": [],
   "source": []
  }
 ],
 "metadata": {
  "kernelspec": {
   "display_name": "Python 3",
   "language": "python",
   "name": "python3"
  },
  "language_info": {
   "codemirror_mode": {
    "name": "ipython",
    "version": 3
   },
   "file_extension": ".py",
   "mimetype": "text/x-python",
   "name": "python",
   "nbconvert_exporter": "python",
   "pygments_lexer": "ipython3",
   "version": "3.7.0"
  }
 },
 "nbformat": 4,
 "nbformat_minor": 2
}
