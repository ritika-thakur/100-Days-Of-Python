{
 "cells": [
  {
   "cell_type": "code",
   "execution_count": 3,
   "metadata": {},
   "outputs": [
    {
     "name": "stdout",
     "output_type": "stream",
     "text": [
      "           \n",
      " ,adPPYba, ,adPPYYba,  ,adPPYba, ,adPPYba, ,adPPYYba, 8b,dPPYba,  \n",
      "a8\"     \"\" \"\"     `Y8 a8P_____88 I8[    \"\" \"\"     `Y8 88P'   \"Y8  \n",
      "8b         ,adPPPPP88 8PP\"  `\"Y8ba,  ,adPPPPP88 88          \n",
      "\"8a,   ,aa 88,    ,88 \"8b,   ,aa aa    ]8I 88,    ,88 88          \n",
      " `\"Ybbd8\"' `\"8bbdP\"Y8  `\"Ybbd8\"' `\"YbbdP\"' `\"8bbdP\"Y8 88   \n",
      "            88             88                                 \n",
      "           \"\"             88                                 \n",
      "                          88                                 \n",
      " ,adPPYba, 88 8b,dPPYba,  88,dPPYba,   ,adPPYba, 8b,dPPYba,  \n",
      "a8\"     \"\" 88 88P'    \"8a 88P'    \"8a a8P_____88 88P'   \"Y8  \n",
      "8b         88 88       d8 88       88 8PP\" 88          \n",
      "\"8a,   ,aa 88 88b,   ,a8\" 88       88 \"8b,   ,aa 88          \n",
      " `\"Ybbd8\"' 88 88`YbbdP\"'  88       88  `\"Ybbd8\"' 88          \n",
      "              88                                             \n",
      "              88           \n",
      "\n",
      "Type 'encode' to encrypt, type 'decode' to decrypt:\n",
      "enode\n",
      "Type your message:\n",
      "zebrazigzag9876@gmai.com\n",
      "Type the shift number:\n",
      "10\n",
      "The enoded text is: jolbkjsqjkq9876@qwks.myw \n",
      "Type 'yes' if you want to go again. Otherwise 'no'.yes\n",
      "Type 'encode' to encrypt, type 'decode' to decrypt:\n",
      "decode\n",
      "Type your message:\n",
      "jolbkjsqjkq9876@qwks.myw\n",
      "Type the shift number:\n",
      "10\n",
      "The decoded text is: zebrazigzag9876@gmai.com \n",
      "Type 'yes' if you want to go again. Otherwise 'no'.no\n",
      "Goodbye\n"
     ]
    }
   ],
   "source": [
    "alphabet = ['a', 'b', 'c', 'd', 'e', 'f', 'g', 'h', 'i', 'j', 'k', 'l', 'm', 'n', 'o', 'p', 'q', 'r', 's', 't', 'u', 'v', 'w', 'x', 'y', 'z']\n",
    "\n",
    "from art import logo\n",
    "\n",
    "def caesar(plain_text, shift_amount, cipher_direction):\n",
    "    cipher_text = ''\n",
    "    if direction == 'decode':\n",
    "        shift_amount = -1*shift_amount\n",
    "    for i in plain_text:\n",
    "        if i in alphabet:\n",
    "            position = alphabet.index(i)\n",
    "            new_position = position + shift_amount\n",
    "            if new_position > len(alphabet):\n",
    "                new_position = new_position - len(alphabet)\n",
    "            new_letter = alphabet[new_position]\n",
    "            cipher_text += new_letter\n",
    "        else:\n",
    "            cipher_text += i    \n",
    "    print(f'The {cipher_direction}d text is: {cipher_text} ')\n",
    "\n",
    "\n",
    "print(logo)\n",
    "    \n",
    "\n",
    "\n",
    "should_continue = True\n",
    "while should_continue:\n",
    "    \n",
    "    direction = input(\"Type 'encode' to encrypt, type 'decode' to decrypt:\\n\")\n",
    "    text = input(\"Type your message:\\n\").lower()\n",
    "    shift = int(input(\"Type the shift number:\\n\"))\n",
    "    shift = shift % 26\n",
    "    caesar(text, shift, direction)\n",
    "    again = input(\"Type 'yes' if you want to go again. Otherwise 'no'.\")\n",
    "    if again == 'no':\n",
    "        should_continue = False\n",
    "        print('Goodbye')"
   ]
  }
 ],
 "metadata": {
  "kernelspec": {
   "display_name": "Python 3",
   "language": "python",
   "name": "python3"
  },
  "language_info": {
   "codemirror_mode": {
    "name": "ipython",
    "version": 3
   },
   "file_extension": ".py",
   "mimetype": "text/x-python",
   "name": "python",
   "nbconvert_exporter": "python",
   "pygments_lexer": "ipython3",
   "version": "3.7.0"
  }
 },
 "nbformat": 4,
 "nbformat_minor": 4
}
