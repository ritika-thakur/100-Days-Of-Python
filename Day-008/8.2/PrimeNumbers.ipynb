{
 "cells": [
  {
   "cell_type": "code",
   "execution_count": 4,
   "metadata": {
    "scrolled": true
   },
   "outputs": [
    {
     "name": "stdout",
     "output_type": "stream",
     "text": [
      "0 1 \u001b[43m\u001b[1m2\u001b[0m \u001b[43m\u001b[1m3\u001b[0m 4 \u001b[43m\u001b[1m5\u001b[0m 6 \u001b[43m\u001b[1m7\u001b[0m 8 9 10 \u001b[43m\u001b[1m11\u001b[0m 12 \u001b[43m\u001b[1m13\u001b[0m 14 15 16 \u001b[43m\u001b[1m17\u001b[0m 18 \u001b[43m\u001b[1m19\u001b[0m 20 21 22 \u001b[43m\u001b[1m23\u001b[0m 24 25 26 27 28 \u001b[43m\u001b[1m29\u001b[0m 30 \u001b[43m\u001b[1m31\u001b[0m 32 33 34 35 36 \u001b[43m\u001b[1m37\u001b[0m 38 39 40 \u001b[43m\u001b[1m41\u001b[0m 42 \u001b[43m\u001b[1m43\u001b[0m 44 45 46 \u001b[43m\u001b[1m47\u001b[0m 48 49 50 51 52 \u001b[43m\u001b[1m53\u001b[0m 54 55 56 57 58 \u001b[43m\u001b[1m59\u001b[0m 60 \u001b[43m\u001b[1m61\u001b[0m 62 63 64 65 66 \u001b[43m\u001b[1m67\u001b[0m 68 69 70 \u001b[43m\u001b[1m71\u001b[0m 72 \u001b[43m\u001b[1m73\u001b[0m 74 75 76 77 78 \u001b[43m\u001b[1m79\u001b[0m 80 81 82 \u001b[43m\u001b[1m83\u001b[0m 84 85 86 87 88 \u001b[43m\u001b[1m89\u001b[0m 90 91 92 93 94 95 96 \u001b[43m\u001b[1m97\u001b[0m 98 99 "
     ]
    }
   ],
   "source": [
    "def check_prime_number(n):\n",
    "    flag = 0\n",
    "    for i in range(2,n//2+1):\n",
    "        if n % i == 0:\n",
    "            flag =  1\n",
    "            break\n",
    "    if flag == 1:\n",
    "        return False\n",
    "    else:\n",
    "        return True\n",
    "        \n",
    "#num = int(input(\"Enter the Number?\"))\n",
    "prime = []\n",
    "nums = \"\"\n",
    "text = \"\"\n",
    "for num in range(2,100):\n",
    "    p = check_prime_number(num)\n",
    "    if p:\n",
    "        prime.append(num)\n",
    "\n",
    "from utils import highlight\n",
    "\n",
    "\n",
    "for i in range (100):\n",
    "    if i in prime:\n",
    "        highlight(str(i))\n",
    "    else:\n",
    "        print(i,end = \" \")"
   ]
  }
 ],
 "metadata": {
  "kernelspec": {
   "display_name": "Python 3",
   "language": "python",
   "name": "python3"
  },
  "language_info": {
   "codemirror_mode": {
    "name": "ipython",
    "version": 3
   },
   "file_extension": ".py",
   "mimetype": "text/x-python",
   "name": "python",
   "nbconvert_exporter": "python",
   "pygments_lexer": "ipython3",
   "version": "3.8.3"
  }
 },
 "nbformat": 4,
 "nbformat_minor": 4
}
