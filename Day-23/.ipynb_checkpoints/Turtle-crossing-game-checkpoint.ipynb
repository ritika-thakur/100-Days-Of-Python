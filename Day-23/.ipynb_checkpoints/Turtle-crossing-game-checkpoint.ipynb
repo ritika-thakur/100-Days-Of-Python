{
 "cells": [
  {
   "cell_type": "code",
   "execution_count": 1,
   "metadata": {},
   "outputs": [
    {
     "ename": "NameError",
     "evalue": "name 'finish_line' is not defined",
     "output_type": "error",
     "traceback": [
      "\u001b[1;31m---------------------------------------------------------------------------\u001b[0m",
      "\u001b[1;31mNameError\u001b[0m                                 Traceback (most recent call last)",
      "\u001b[1;32m<ipython-input-1-5b996a87e34a>\u001b[0m in \u001b[0;36m<module>\u001b[1;34m()\u001b[0m\n\u001b[0;32m     32\u001b[0m             \u001b[0mscoreboard\u001b[0m\u001b[1;33m.\u001b[0m\u001b[0mgame_over\u001b[0m\u001b[1;33m(\u001b[0m\u001b[1;33m)\u001b[0m\u001b[1;33m\u001b[0m\u001b[0m\n\u001b[0;32m     33\u001b[0m \u001b[1;33m\u001b[0m\u001b[0m\n\u001b[1;32m---> 34\u001b[1;33m     \u001b[1;32mif\u001b[0m \u001b[0mfinish_line\u001b[0m\u001b[1;33m(\u001b[0m\u001b[1;33m)\u001b[0m\u001b[1;33m:\u001b[0m\u001b[1;33m\u001b[0m\u001b[0m\n\u001b[0m\u001b[0;32m     35\u001b[0m         \u001b[0mplayer\u001b[0m\u001b[1;33m.\u001b[0m\u001b[0mgoto_start\u001b[0m\u001b[1;33m(\u001b[0m\u001b[1;33m)\u001b[0m\u001b[1;33m\u001b[0m\u001b[0m\n\u001b[0;32m     36\u001b[0m         \u001b[0mcar_manager\u001b[0m\u001b[1;33m.\u001b[0m\u001b[0mlevel_up\u001b[0m\u001b[1;33m(\u001b[0m\u001b[1;33m)\u001b[0m\u001b[1;33m\u001b[0m\u001b[0m\n",
      "\u001b[1;31mNameError\u001b[0m: name 'finish_line' is not defined"
     ]
    }
   ],
   "source": [
    "import time\n",
    "from turtle import Screen\n",
    "from player import Player\n",
    "from car_manager import CarManager\n",
    "from scoreboard import Scoreboard\n",
    "\n",
    "\n",
    "screen = Screen()\n",
    "screen.setup(width=600, height=600)\n",
    "screen.tracer(0)\n",
    "\n",
    "\n",
    "player = Player()\n",
    "car_manager = CarManager()\n",
    "scoreboard = Scoreboard()\n",
    "\n",
    "screen.listen()\n",
    "screen.onkey(player.cross_road, \"Up\")\n",
    "\n",
    "\n",
    "\n",
    "game_is_on = True\n",
    "while game_is_on:\n",
    "    time.sleep(0.1)\n",
    "    screen.update()\n",
    "    car_manager.create_car()\n",
    "    car_manager.move_car()\n",
    "    \n",
    "    for car in car_manager.all_cars:\n",
    "        if car.distance(player) < 20:\n",
    "            game_is_on = False\n",
    "            scoreboard.game_over()\n",
    "            \n",
    "    if player.finish_line():\n",
    "        player.goto_start()\n",
    "        car_manager.level_up()\n",
    "        scoreboard.increase_level()\n",
    "    \n",
    "\n",
    "screen.exitonclick()"
   ]
  },
  {
   "cell_type": "code",
   "execution_count": null,
   "metadata": {},
   "outputs": [],
   "source": []
  },
  {
   "cell_type": "code",
   "execution_count": null,
   "metadata": {},
   "outputs": [],
   "source": []
  },
  {
   "cell_type": "code",
   "execution_count": null,
   "metadata": {},
   "outputs": [],
   "source": []
  },
  {
   "cell_type": "code",
   "execution_count": null,
   "metadata": {},
   "outputs": [],
   "source": []
  },
  {
   "cell_type": "code",
   "execution_count": 1,
   "metadata": {},
   "outputs": [],
   "source": [
    "# #Player\n",
    "\n",
    "# STARTING_POSITION = (0, -280)\n",
    "# MOVE_DISTANCE = 10\n",
    "# FINISH_LINE_Y = 280\n",
    "\n",
    "# from turtle import Turtle, Screen\n",
    "\n",
    "# class Player(Turtle):\n",
    "    \n",
    "#     def __init__(self):\n",
    "#         self.shape(\"turtle\")\n",
    "#         self.penup()\n",
    "#         self.goto(STARTING_POSITION)\n",
    "#         screen.listen()\n",
    "    \n",
    "#     def cross_road(self):\n",
    "#         new_y = self.ycor() + MOVE_DISTANCE\n",
    "#         self.goto(0, new_y)\n",
    "    \n",
    "#     def move(self):\n",
    "#         screen.onkey(cross_road, \"Up\")\n",
    "        \n",
    "#     def finish_line(self):\n",
    "#         if self.distance(0, 280) < 10:\n",
    "#             self.goto(STARTING_POSITION)"
   ]
  },
  {
   "cell_type": "code",
   "execution_count": null,
   "metadata": {},
   "outputs": [],
   "source": []
  },
  {
   "cell_type": "code",
   "execution_count": null,
   "metadata": {},
   "outputs": [],
   "source": [
    "# #Car Manager\n",
    "# COLORS = [\"red\", \"orange\", \"yellow\", \"green\", \"blue\", \"purple\"]\n",
    "# STARTING_MOVE_DISTANCE = 5\n",
    "# MOVE_INCREMENT = 10\n",
    "\n",
    "# from turtle import Turtle\n",
    "# import random\n",
    "\n",
    "# class CarManager(Turtle):\n",
    "    \n",
    "#     def __init__(self):\n",
    "        \n",
    "#         self.shape(\"square\")\n",
    "#         self.shapesize(1, 2)\n",
    "#         self.color(random.choice(COLORS))\n",
    "#         self.penup()\n",
    "#         self.generate_car\n",
    "    \n",
    "#     def generate_car(self):\n",
    "#         new_y = random.randint(-280, 280)\n",
    "#         self.goto(280, new_y)\n",
    "    \n",
    "#     def move_car(self):\n",
    "#         self.xcor += 20\n",
    "        \n"
   ]
  },
  {
   "cell_type": "code",
   "execution_count": null,
   "metadata": {},
   "outputs": [],
   "source": []
  }
 ],
 "metadata": {
  "kernelspec": {
   "display_name": "Python 3",
   "language": "python",
   "name": "python3"
  },
  "language_info": {
   "codemirror_mode": {
    "name": "ipython",
    "version": 3
   },
   "file_extension": ".py",
   "mimetype": "text/x-python",
   "name": "python",
   "nbconvert_exporter": "python",
   "pygments_lexer": "ipython3",
   "version": "3.7.0"
  }
 },
 "nbformat": 4,
 "nbformat_minor": 2
}
