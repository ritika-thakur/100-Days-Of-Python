{
 "cells": [
  {
   "cell_type": "code",
   "execution_count": 1,
   "metadata": {},
   "outputs": [],
   "source": [
    "import time\n",
    "from turtle import Screen\n",
    "from player import Player\n",
    "from car_manager import CarManager\n",
    "from scoreboard import Scoreboard\n",
    "\n",
    "\n",
    "screen = Screen()\n",
    "screen.setup(width=600, height=600)\n",
    "screen.tracer(0)\n",
    "\n",
    "\n",
    "player = Player()\n",
    "car_manager = CarManager()\n",
    "scoreboard = Scoreboard()\n",
    "\n",
    "screen.listen()\n",
    "screen.onkey(player.cross_road, \"Up\")\n",
    "\n",
    "\n",
    "\n",
    "game_is_on = True\n",
    "while game_is_on:\n",
    "    time.sleep(0.1)\n",
    "    screen.update()\n",
    "    car_manager.create_car()\n",
    "    car_manager.move_car()\n",
    "    \n",
    "    for car in car_manager.all_cars:\n",
    "        if car.distance(player) < 20:\n",
    "            game_is_on = False\n",
    "            scoreboard.game_over()\n",
    "            \n",
    "    if player.finish_line():\n",
    "        player.goto_start()\n",
    "        car_manager.level_up()\n",
    "        scoreboard.increase_level()\n",
    "    \n",
    "\n",
    "screen.exitonclick()"
   ]
  }
 ],
 "metadata": {
  "kernelspec": {
   "display_name": "Python 3",
   "language": "python",
   "name": "python3"
  },
  "language_info": {
   "codemirror_mode": {
    "name": "ipython",
    "version": 3
   },
   "file_extension": ".py",
   "mimetype": "text/x-python",
   "name": "python",
   "nbconvert_exporter": "python",
   "pygments_lexer": "ipython3",
   "version": "3.7.0"
  }
 },
 "nbformat": 4,
 "nbformat_minor": 2
}
