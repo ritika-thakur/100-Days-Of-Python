{
 "cells": [
  {
   "cell_type": "code",
   "execution_count": null,
   "metadata": {},
   "outputs": [],
   "source": [
    "from menu import Menu\n",
    "from coffee_maker import CoffeeMaker\n",
    "from money_machine import MoneyMachine\n",
    "\n",
    "money_machine = MoneyMachine()\n",
    "coffee_maker = CoffeeMaker()\n",
    "menu = Menu()\n",
    "\n",
    "is_on = True\n",
    "\n",
    "while is_on:\n",
    "    options = menu.get_items()\n",
    "    choice = input(f\"What would you like? ({options}): \")\n",
    "    if choice == \"off\":\n",
    "        is_on = False\n",
    "    elif choice == \"report\":\n",
    "        coffee_maker.report()\n",
    "        money_machine.report()\n",
    "    else:\n",
    "        drink = menu.find_drink(choice)\n",
    "        is_enough_ingredients = coffee_maker.is_resource_sufficient(drink)\n",
    "        is_payment_successful = money_machine.make_payment(drink.cost)\n",
    "        if is_enough_ingredients and is_payment_successful:\n",
    "            coffee_maker.make_coffee(drink)\n"
   ]
  }
 ],
 "metadata": {
  "kernelspec": {
   "display_name": "Python 3",
   "language": "python",
   "name": "python3"
  },
  "language_info": {
   "codemirror_mode": {
    "name": "ipython",
    "version": 3
   },
   "file_extension": ".py",
   "mimetype": "text/x-python",
   "name": "python",
   "nbconvert_exporter": "python",
   "pygments_lexer": "ipython3",
   "version": "3.7.0"
  }
 },
 "nbformat": 4,
 "nbformat_minor": 2
}
