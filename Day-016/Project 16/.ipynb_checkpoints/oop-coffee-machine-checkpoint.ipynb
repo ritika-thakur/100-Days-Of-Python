{
 "cells": [
  {
   "cell_type": "code",
   "execution_count": 2,
   "metadata": {},
   "outputs": [
    {
     "name": "stdout",
     "output_type": "stream",
     "text": [
      "What would you like? (latte/espresso/cappuccino/): cappuccino\n",
      "Please insert coins.\n",
      "How many quarters?: 13\n",
      "How many dimes?: 13\n",
      "How many nickles?: 13\n",
      "How many pennies?: 13\n",
      "Here is $2.33 in change.\n",
      "Here is your cappuccino ☕️. Enjoy!\n",
      "What would you like? (latte/espresso/cappuccino/): espresso\n",
      "Please insert coins.\n",
      "How many quarters?: 10\n",
      "How many dimes?: 10\n",
      "How many nickles?: 10\n",
      "How many pennies?: 10\n",
      "Here is $2.6 in change.\n",
      "Here is your espresso ☕️. Enjoy!\n",
      "What would you like? (latte/espresso/cappuccino/): cappuccino\n",
      "Sorry there is not enough water.\n",
      "Please insert coins.\n",
      "How many quarters?: 0\n",
      "How many dimes?: 0\n",
      "How many nickles?: 0\n",
      "How many pennies?: 0\n",
      "Sorry that's not enough money. Money refunded.\n",
      "What would you like? (latte/espresso/cappuccino/): off\n"
     ]
    }
   ],
   "source": [
    "from menu import Menu\n",
    "from coffee_maker import CoffeeMaker\n",
    "from money_machine import MoneyMachine\n",
    "\n",
    "money_machine = MoneyMachine()\n",
    "coffee_maker = CoffeeMaker()\n",
    "menu = Menu()\n",
    "\n",
    "is_on = True\n",
    "\n",
    "while is_on:\n",
    "    options = menu.get_items()\n",
    "    choice = input(f\"What would you like? ({options}): \")\n",
    "    if choice == \"off\":\n",
    "        is_on = False\n",
    "    elif choice == \"report\":\n",
    "        coffee_maker.report()\n",
    "        money_machine.report()\n",
    "    else:\n",
    "        drink = menu.find_drink(choice)\n",
    "        is_enough_ingredients = coffee_maker.is_resource_sufficient(drink)\n",
    "        is_payment_successful = money_machine.make_payment(drink.cost)\n",
    "        if is_enough_ingredients and is_payment_successful:\n",
    "            coffee_maker.make_coffee(drink)\n"
   ]
  },
  {
   "cell_type": "code",
   "execution_count": null,
   "metadata": {},
   "outputs": [],
   "source": []
  }
 ],
 "metadata": {
  "kernelspec": {
   "display_name": "Python 3",
   "language": "python",
   "name": "python3"
  },
  "language_info": {
   "codemirror_mode": {
    "name": "ipython",
    "version": 3
   },
   "file_extension": ".py",
   "mimetype": "text/x-python",
   "name": "python",
   "nbconvert_exporter": "python",
   "pygments_lexer": "ipython3",
   "version": "3.7.0"
  }
 },
 "nbformat": 4,
 "nbformat_minor": 2
}
