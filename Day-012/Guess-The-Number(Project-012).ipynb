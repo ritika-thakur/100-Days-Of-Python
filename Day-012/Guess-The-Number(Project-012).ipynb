{
 "cells": [
  {
   "cell_type": "code",
   "execution_count": 15,
   "metadata": {},
   "outputs": [
    {
     "name": "stdout",
     "output_type": "stream",
     "text": [
      "\n",
      "\n",
      "\n",
      "  _______  __    __   _______     _______.     _______.   .___________. __    __   _______    .__   __.  __    __  .___  ___. .______    _______ .______      \n",
      " /  _____||  |  |  | |   ____|   /       |    /       |   |           ||  |  |  | |   ____|   |  \\ |  | |  |  |  | |   \\/   | |   _  \\  |   ____||   _  \\     \n",
      "|  |  __  |  |  |  | |  |__     |   (----`   |   (----`   `---|  |----`|  |__|  | |  |__      |   \\|  | |  |  |  | |  \\  /  | |  |_)  | |  |__   |  |_)  |    \n",
      "|  | |_ | |  |  |  | |   __|     \\   \\        \\   \\           |  |     |   __   | |   __|     |  . `  | |  |  |  | |  |\\/|  | |   _  <  |   __|  |      /     \n",
      "|  |__| | |  `--'  | |  |____.----)   |   .----)   |          |  |     |  |  |  | |  |____    |  |\\   | |  `--'  | |  |  |  | |  |_)  | |  |____ |  |\\  \\----.\n",
      " \\______|  \\______/  |_______|_______/    |_______/           |__|     |__|  |__| |_______|   |__| \\__|  \\______/  |__|  |__| |______/  |_______|| _| `._____|\n",
      "                                                                                                                                                              \n",
      "\n",
      "\n",
      "\n",
      "\n",
      "Welcome to the Number Guessing Game!\n",
      "I'm thinking of a number between 1 and 100.\n",
      "91\n",
      "Choose Difficulty. Type 'easy' or 'hard': hard\n",
      "You have 5 attempts remaining to guess the answer.\n",
      "Make a guess: 99\n",
      "Too High\n",
      "Guess again\n",
      "You have 4 attempts remaining to guess the answer.\n",
      "Make a guess: 90\n",
      "Too Low\n",
      "Guess again\n",
      "You have 3 attempts remaining to guess the answer.\n",
      "Make a guess: 91\n",
      "You got it! The correct answer is 91\n"
     ]
    }
   ],
   "source": [
    " import random\n",
    "from art import logo\n",
    "print(logo)\n",
    "print(\"Welcome to the Number Guessing Game!\")\n",
    "print(\"I'm thinking of a number between 1 and 100.\")\n",
    "number_list = []\n",
    "correct_answer = random.randint(1,100)\n",
    "print(correct_answer)\n",
    "level = input(\"Choose Difficulty. Type 'easy' or 'hard': \")\n",
    "if level == 'easy':\n",
    "    chances = 10\n",
    "elif level == 'hard':\n",
    "    chances = 5\n",
    "else:\n",
    "    print(\"Invalid Request!\")\n",
    "\n",
    "while chances > 0:\n",
    "    print(f\"You have {chances} attempts remaining to guess the answer.\")\n",
    "    guess = int(input(\"Make a guess: \"))\n",
    "    if guess < correct_answer:\n",
    "        print(\"Too Low\")\n",
    "        chances -= 1\n",
    "    elif guess > correct_answer:\n",
    "        print(\"Too High\")\n",
    "        chances -= 1\n",
    "    else:\n",
    "        print(f\"You got it! The correct answer is {correct_answer}\")\n",
    "        break\n",
    "    if chances == 0:\n",
    "        print(\"You've run out of guesses. You lose.\")\n",
    "    else:\n",
    "        print(\"Guess again\")\n",
    "    \n",
    "        \n"
   ]
  }
 ],
 "metadata": {
  "kernelspec": {
   "display_name": "Python 3",
   "language": "python",
   "name": "python3"
  },
  "language_info": {
   "codemirror_mode": {
    "name": "ipython",
    "version": 3
   },
   "file_extension": ".py",
   "mimetype": "text/x-python",
   "name": "python",
   "nbconvert_exporter": "python",
   "pygments_lexer": "ipython3",
   "version": "3.7.0"
  }
 },
 "nbformat": 4,
 "nbformat_minor": 2
}
