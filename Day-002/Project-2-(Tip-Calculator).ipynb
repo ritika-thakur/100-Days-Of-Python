{
 "cells": [
  {
   "cell_type": "markdown",
   "metadata": {},
   "source": [
    "## Tip Calculator\n",
    "```\n",
    "If the bill was $150.00, split between 5 people, with 12% tip. \n",
    "Each person should pay (150.00 / 5) * 1.12 = 33.6\n",
    "Format the result to 2 decimal places = 33.60\n",
    "Tip: You might need to do some research in Google to figure out how to do this.\n",
    "```"
   ]
  },
  {
   "cell_type": "code",
   "execution_count": 1,
   "metadata": {},
   "outputs": [
    {
     "name": "stdout",
     "output_type": "stream",
     "text": [
      "Welcome! To the Tip Calculator\n",
      "What was the bill total?\n",
      "150\n",
      "How many people do want to split the bill?\n",
      "5\n",
      "What percentage of tip you wanna give?\n",
      "12\n",
      "Each person should pay: 33.6\n"
     ]
    }
   ],
   "source": [
    "print(\"Welcome! To the Tip Calculator\")\n",
    "\n",
    "bill = float(input(\"What was the bill total?\\n\"))\n",
    "\n",
    "no_of_people = int(input(\"How many people do want to split the bill?\\n\"))\n",
    "\n",
    "tip = float(input(\"What percentage of tip you wanna give?\\n\"))\n",
    "\n",
    "final_share = (bill/no_of_people)*(1 + (tip/100))\n",
    "\n",
    "print(\"Each person should pay: \" + str(final_share))"
   ]
  }
 ],
 "metadata": {
  "kernelspec": {
   "display_name": "Python 3",
   "language": "python",
   "name": "python3"
  },
  "language_info": {
   "codemirror_mode": {
    "name": "ipython",
    "version": 3
   },
   "file_extension": ".py",
   "mimetype": "text/x-python",
   "name": "python",
   "nbconvert_exporter": "python",
   "pygments_lexer": "ipython3",
   "version": "3.7.0"
  }
 },
 "nbformat": 4,
 "nbformat_minor": 2
}
