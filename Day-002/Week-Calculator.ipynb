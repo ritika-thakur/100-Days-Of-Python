{
 "cells": [
  {
   "cell_type": "code",
   "execution_count": null,
   "metadata": {},
   "outputs": [],
   "source": [
    "print(\"This Calculator Calculates how much week we have left if we would live for 90 years\")\n",
    "\n",
    "age = int(input(\"Enter Your Age!\"))\n",
    "\n",
    "weeks_left = (90-age)*52\n",
    "\n",
    "days_left = (90-age)*365\n",
    "\n",
    "months_left = (90-age)*12\n",
    "\n",
    "years_left = (90-age)\n",
    "\n",
    "print(f\"you've {years_left} years, {months_left} months, {weeks_left} weeks, {days_left} days left!\")"
   ]
  },
  {
   "cell_type": "code",
   "execution_count": null,
   "metadata": {},
   "outputs": [],
   "source": []
  }
 ],
 "metadata": {
  "kernelspec": {
   "display_name": "Python 3",
   "language": "python",
   "name": "python3"
  },
  "language_info": {
   "codemirror_mode": {
    "name": "ipython",
    "version": 3
   },
   "file_extension": ".py",
   "mimetype": "text/x-python",
   "name": "python",
   "nbconvert_exporter": "python",
   "pygments_lexer": "ipython3",
   "version": "3.7.0"
  }
 },
 "nbformat": 4,
 "nbformat_minor": 2
}
