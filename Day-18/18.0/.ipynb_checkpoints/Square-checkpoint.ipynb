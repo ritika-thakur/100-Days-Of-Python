{
 "cells": [
  {
   "cell_type": "code",
   "execution_count": 1,
   "metadata": {},
   "outputs": [],
   "source": [
    "from turtle import Turtle, Screen"
   ]
  },
  {
   "cell_type": "code",
   "execution_count": 2,
   "metadata": {},
   "outputs": [],
   "source": [
    "tim = Turtle()\n",
    "tim.shape(\"turtle\")\n",
    "tim.color(\"DarkGreen\")\n",
    "for _ in range(4):\n",
    "    tim.forward(100)\n",
    "    tim.right(90)\n",
    "\n",
    "for _ in range(4):\n",
    "    tim.left(90)\n",
    "    for i in range(5):\n",
    "        tim.forward(10)\n",
    "        tim.penup()\n",
    "        tim.forward(10)\n",
    "        tim.pendown()\n",
    "    \n",
    "\n",
    "\n",
    "\n",
    "screen = Screen()\n",
    "screen.exitonclick()"
   ]
  }
 ],
 "metadata": {
  "kernelspec": {
   "display_name": "Python 3",
   "language": "python",
   "name": "python3"
  },
  "language_info": {
   "codemirror_mode": {
    "name": "ipython",
    "version": 3
   },
   "file_extension": ".py",
   "mimetype": "text/x-python",
   "name": "python",
   "nbconvert_exporter": "python",
   "pygments_lexer": "ipython3",
   "version": "3.7.0"
  }
 },
 "nbformat": 4,
 "nbformat_minor": 2
}
