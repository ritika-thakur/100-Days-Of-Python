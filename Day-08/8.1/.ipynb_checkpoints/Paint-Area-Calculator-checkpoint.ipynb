{
 "cells": [
  {
   "cell_type": "markdown",
   "metadata": {},
   "source": [
    "### Functional Parameters and Arguments"
   ]
  },
  {
   "cell_type": "code",
   "execution_count": 1,
   "metadata": {},
   "outputs": [
    {
     "name": "stdout",
     "output_type": "stream",
     "text": [
      "Hello \n",
      "How do you do? \n",
      "Isn't the weather nice today?\n"
     ]
    }
   ],
   "source": [
    "def greet():\n",
    "    print(\"Hello \")\n",
    "    print(\"How do you do? \")\n",
    "    print(\"Isn't the weather nice today?\")\n",
    "\n",
    "greet()"
   ]
  },
  {
   "cell_type": "markdown",
   "metadata": {},
   "source": [
    " Function taking parameter"
   ]
  },
  {
   "cell_type": "code",
   "execution_count": 2,
   "metadata": {},
   "outputs": [
    {
     "name": "stdout",
     "output_type": "stream",
     "text": [
      "Hello  Andrew\n",
      "How do you do? Andrew\n"
     ]
    }
   ],
   "source": [
    "def greet_with_name(name):\n",
    "    print(\"Hello \",name)\n",
    "    print(\"How do you do?\", name)\n",
    "\n",
    "greet_with_name(\"Andrew\")"
   ]
  },
  {
   "cell_type": "markdown",
   "metadata": {},
   "source": [
    "Function taking more than one parameter"
   ]
  },
  {
   "cell_type": "code",
   "execution_count": 3,
   "metadata": {},
   "outputs": [
    {
     "name": "stdout",
     "output_type": "stream",
     "text": [
      "Hello Mio\n",
      "What is it like in Japan ?\n",
      "Hello Mio\n",
      "What is it like in Japan ?\n"
     ]
    }
   ],
   "source": [
    "def greet_with(name,location):\n",
    "    print(f\"Hello {name}\")\n",
    "    print(f\"What is it like in {location} ?\")\n",
    "\n",
    "greet_with(\"Mio\", \"Japan\")   \n",
    "greet_with(location=\"Japan\", name=\"Mio\")"
   ]
  },
  {
   "cell_type": "markdown",
   "metadata": {},
   "source": [
    "## Paint Area Calculator"
   ]
  },
  {
   "cell_type": "code",
   "execution_count": 4,
   "metadata": {},
   "outputs": [],
   "source": [
    "import math"
   ]
  },
  {
   "cell_type": "code",
   "execution_count": 7,
   "metadata": {},
   "outputs": [
    {
     "name": "stdout",
     "output_type": "stream",
     "text": [
      "Height of wall: 9\n",
      "Width of wall: 34\n",
      "You'll need 62 cans to paint the wall.\n"
     ]
    }
   ],
   "source": [
    "def paint_calc(height, width, cover):\n",
    "    calculation = (height*width)/cover\n",
    "    cans_required = math.ceil(calculation)\n",
    "    return cans_required\n",
    "\n",
    "test_h = int(input(\"Height of wall: \"))\n",
    "test_w = int(input(\"Width of wall: \"))\n",
    "coverage = 5\n",
    "num_of_can = paint_calc(height=test_h, width=test_w, cover=coverage)\n",
    "\n",
    "print(f\"You'll need {num_of_can} cans to paint the wall.\")"
   ]
  }
 ],
 "metadata": {
  "kernelspec": {
   "display_name": "Python 3",
   "language": "python",
   "name": "python3"
  },
  "language_info": {
   "codemirror_mode": {
    "name": "ipython",
    "version": 3
   },
   "file_extension": ".py",
   "mimetype": "text/x-python",
   "name": "python",
   "nbconvert_exporter": "python",
   "pygments_lexer": "ipython3",
   "version": "3.7.0"
  }
 },
 "nbformat": 4,
 "nbformat_minor": 2
}
